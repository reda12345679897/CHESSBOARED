{
 "cells": [
  {
   "cell_type": "code",
   "execution_count": 24,
   "id": "24933452-1d74-4a97-b297-1bcf5a11d939",
   "metadata": {},
   "outputs": [],
   "source": [
    "#import the necessary libraries:"
   ]
  },
  {
   "cell_type": "code",
   "execution_count": 25,
   "id": "e2c48dc7-be53-4de0-8dbd-73d572c7cb3c",
   "metadata": {},
   "outputs": [],
   "source": [
    "import cv2\n",
    "import numpy as np\n",
    "import tensorflow as tf\n",
    "from tensorflow.keras.layers import Input, Conv2D, MaxPooling2D, Flatten, Dense\n",
    "from tensorflow.keras.models import Model"
   ]
  },
  {
   "cell_type": "code",
   "execution_count": null,
   "id": "2fe6d79f-65bd-493d-813c-0a6b63d2311c",
   "metadata": {},
   "outputs": [],
   "source": []
  },
  {
   "cell_type": "code",
   "execution_count": null,
   "id": "aedb9c76-c029-42b6-bdf7-34e33f558b2f",
   "metadata": {},
   "outputs": [],
   "source": []
  },
  {
   "cell_type": "code",
   "execution_count": 26,
   "id": "335fc0a3-9810-4d87-a62d-544f440019ae",
   "metadata": {},
   "outputs": [],
   "source": [
    "#Define the CNN architecture:"
   ]
  },
  {
   "cell_type": "code",
   "execution_count": 27,
   "id": "74269278-c68c-4598-9b9c-c4bc0a87daad",
   "metadata": {},
   "outputs": [],
   "source": [
    "input_shape = (7, 7, 3)\n",
    "inputs = Input(shape=input_shape)\n",
    "x = Conv2D(32,32, 3), activation='relu')(inputs)\n",
    "x = MaxPooling2D((2, 2))(x)\n",
    "x = Conv2D(64,64, 3), activation='relu')(x)\n",
    "x = MaxPooling2D((2, 2))(x)\n",
    "x = Flatten()(x)\n",
    "x = Dense(128, activation='relu')(x)\n",
    "outputs = Dense(6, activation='linear')(x)\n",
    "model = Model(inputs=inputs, outputs=outputs)\n",
    "model.compile(optimizer='adam', loss='mse')"
   ]
  },
  {
   "cell_type": "code",
   "execution_count": null,
   "id": "3139b344-0150-4c58-86aa-cb78150da311",
   "metadata": {},
   "outputs": [],
   "source": []
  },
  {
   "cell_type": "code",
   "execution_count": null,
   "id": "8c97c354-b377-4dd4-b2ed-9183148483ae",
   "metadata": {},
   "outputs": [],
   "source": []
  },
  {
   "cell_type": "code",
   "execution_count": 28,
   "id": "2a2ea4e9-020e-48d3-9571-3f1fad8f8ba4",
   "metadata": {},
   "outputs": [],
   "source": [
    "#Collect and preprocess the chessboard images:"
   ]
  },
  {
   "cell_type": "code",
   "execution_count": 29,
   "id": "c5e7e24f-6811-4048-ba5c-2591d6a21ac3",
   "metadata": {},
   "outputs": [],
   "source": [
    "chessboard_images = []\n",
    "chessboard_params = []\n",
    "\n",
    "# Collect chessboard images from different angles and orientations\n",
    "# Preprocess the images by detecting the corners of the chessboard\n",
    "\n",
    "for image, params in zip(chessboard_images, chessboard_params):\n",
    "    image = cv2.resize(image, input_shape[:2][::-1])\n",
    "    image = image.astype('float32') / 255.0\n",
    "    image = np.expand_dims(image, axis=0)\n",
    "    chessboard_images.append(image)\n",
    "    chessboard_params.append(params)\n",
    "\n",
    "chessboard_images = np.array(chessboard_images)\n",
    "chessboard_params = np.array(chessboard_params)"
   ]
  },
  {
   "cell_type": "code",
   "execution_count": null,
   "id": "bb5b4b06-8d4d-45b7-8473-dea6826dde95",
   "metadata": {},
   "outputs": [],
   "source": []
  },
  {
   "cell_type": "code",
   "execution_count": null,
   "id": "6cd1a49e-1641-4c44-8295-0ba43826238d",
   "metadata": {},
   "outputs": [],
   "source": []
  },
  {
   "cell_type": "code",
   "execution_count": 30,
   "id": "08e2765c-b1ea-466a-8279-c4a9457794b3",
   "metadata": {},
   "outputs": [],
   "source": [
    "#Camera calibration using checkerboard:"
   ]
  },
  {
   "cell_type": "code",
   "execution_count": 4,
   "id": "30d200ab-96a2-4e04-bce9-f5b965d18bc9",
   "metadata": {},
   "outputs": [
    {
     "name": "stdout",
     "output_type": "stream",
     "text": [
      "\"images\" Directory already Exists.\n",
      "saved image number 0\n",
      "saved image number 1\n",
      "saved image number 2\n",
      "saved image number 3\n",
      "Total saved Images: 4\n"
     ]
    }
   ],
   "source": [
    "import cv2 as cv\n",
    "import os\n",
    "\n",
    "CHESS_BOARD_DIM = (7, 7)\n",
    "\n",
    "n = 0  # image_counter\n",
    "\n",
    "# checking if  images dir is exist not, if not then create images directory\n",
    "image_dir_path = \"images\"\n",
    "\n",
    "CHECK_DIR = os.path.isdir(image_dir_path)\n",
    "# if directory does not exist create\n",
    "if not CHECK_DIR:\n",
    "    os.makedirs(image_dir_path)\n",
    "    print(f'\"{image_dir_path}\" Directory is created')\n",
    "else:\n",
    "    print(f'\"{image_dir_path}\" Directory already Exists.')\n",
    "\n",
    "criteria = (cv.TERM_CRITERIA_EPS + cv.TERM_CRITERIA_MAX_ITER, 30, 0.001)\n",
    "\n",
    "\n",
    "def detect_checker_board(image, grayImage, criteria, boardDimension):\n",
    "    ret, corners = cv.findChessboardCorners(grayImage, boardDimension)\n",
    "    if ret == True:\n",
    "        corners1 = cv.cornerSubPix(grayImage, corners, (3, 3), (-1, -1), criteria)\n",
    "        image = cv.drawChessboardCorners(image, boardDimension, corners1, ret)\n",
    "\n",
    "    return image, ret\n",
    "\n",
    "\n",
    "cap = cv.VideoCapture(0)\n",
    "while True:\n",
    "    _, frame = cap.read()\n",
    "    copyFrame = frame.copy()\n",
    "    gray = cv.cvtColor(frame, cv.COLOR_BGR2GRAY)\n",
    "\n",
    "    image, board_detected = detect_checker_board(frame, gray, criteria, CHESS_BOARD_DIM)\n",
    "    # print(ret)\n",
    "    cv.putText(frame,f\"saved_img : {n}\",(30, 40),cv.FONT_HERSHEY_PLAIN,1.4,(0, 255, 0),2,cv.LINE_AA,)\n",
    "\n",
    "    cv.imshow(\"frame\", frame)\n",
    "    cv.imshow(\"copyFrame\", copyFrame)\n",
    "\n",
    "    key = cv.waitKey(1)\n",
    "\n",
    "    if key == ord(\"q\"):\n",
    "        break\n",
    "    if key == ord(\"s\") and board_detected == True:\n",
    "        # storing the checker board image\n",
    "        cv.imwrite(f\"{image_dir_path}/image{n}.png\", copyFrame)\n",
    "\n",
    "        print(f\"saved image number {n}\")\n",
    "        n += 1  # incrementing the image counter\n",
    "cap.release()\n",
    "cv.destroyAllWindows()\n",
    "\n",
    "print(\"Total saved Images:\", n)"
   ]
  },
  {
   "cell_type": "markdown",
   "id": "f369b950-c6c9-4b60-9466-ad93a7057b3a",
   "metadata": {},
   "source": [
    "#### "
   ]
  }
 ],
 "metadata": {
  "kernelspec": {
   "display_name": "Python 3 (ipykernel)",
   "language": "python",
   "name": "python3"
  },
  "language_info": {
   "codemirror_mode": {
    "name": "ipython",
    "version": 3
   },
   "file_extension": ".py",
   "mimetype": "text/x-python",
   "name": "python",
   "nbconvert_exporter": "python",
   "pygments_lexer": "ipython3",
   "version": "3.11.7"
  }
 },
 "nbformat": 4,
 "nbformat_minor": 5
}
